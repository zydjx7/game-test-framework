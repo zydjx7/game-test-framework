{
 "cells": [
  {
   "cell_type": "code",
   "execution_count": 1,
   "metadata": {},
   "outputs": [],
   "source": [
    "import numpy as np\n"
   ]
  },
  {
   "cell_type": "code",
   "execution_count": 2,
   "metadata": {},
   "outputs": [],
   "source": [
    "an_array = np.array([1, 1, 1, 1, 1, 1, 10])\n",
    "mean = np.mean(an_array)\n",
    "standard_deviation = np.std(an_array)\n",
    "distance_from_mean = abs(an_array - mean)\n",
    "max_deviations = 2\n",
    "not_outlier = distance_from_mean < max_deviations * standard_deviation\n",
    "no_outliers = an_array[not_outlier]"
   ]
  },
  {
   "cell_type": "code",
   "execution_count": 3,
   "metadata": {},
   "outputs": [
    {
     "name": "stdout",
     "output_type": "stream",
     "text": [
      "[1 1 1 1 1 1] 3.1493439550069433 2.2857142857142856\n"
     ]
    }
   ],
   "source": [
    "print(no_outliers, standard_deviation, mean)"
   ]
  },
  {
   "cell_type": "code",
   "execution_count": 4,
   "metadata": {},
   "outputs": [
    {
     "name": "stdout",
     "output_type": "stream",
     "text": [
      "[1.28571429 1.28571429 1.28571429 1.28571429 1.28571429 1.28571429\n",
      " 7.71428571]\n"
     ]
    }
   ],
   "source": [
    "print(distance_from_mean)"
   ]
  },
  {
   "cell_type": "code",
   "execution_count": 9,
   "metadata": {},
   "outputs": [
    {
     "name": "stderr",
     "output_type": "stream",
     "text": [
      "IOPub data rate exceeded.\n",
      "The notebook server will temporarily stop sending output\n",
      "to the client in order to avoid crashing it.\n",
      "To change this limit, set the config variable\n",
      "`--NotebookApp.iopub_data_rate_limit`.\n",
      "\n",
      "Current values:\n",
      "NotebookApp.iopub_data_rate_limit=1000000.0 (bytes/sec)\n",
      "NotebookApp.rate_limit_window=3.0 (secs)\n",
      "\n"
     ]
    }
   ],
   "source": [
    "import pickle as pkl\n",
    "with open(\"neighStats.pkl\", \"rb\") as f:\n",
    "    R = pkl.load(f)\n",
    "print(R)"
   ]
  },
  {
   "cell_type": "code",
   "execution_count": 15,
   "metadata": {},
   "outputs": [
    {
     "name": "stdout",
     "output_type": "stream",
     "text": [
      "[    4522     2528     5731 13719521        0        0        0        0\n",
      "        0]\n",
      "[ 50  70  80 100 120 140 200 300 400 500]\n",
      "Standard dev:  2.449650308005892\n",
      "Mean:  99.91028916742951\n"
     ]
    }
   ],
   "source": [
    "a = np.array(R) \n",
    "mean_a = np.mean(a)\n",
    "std_a = np.std(a)\n",
    "hist,bins = np.histogram(a,bins = [50, 70, 80,100, 120, 140, 200, 300, 400, 500]) \n",
    "print (hist)\n",
    "print (bins)\n",
    "print(\"Standard dev: \", std_a)\n",
    "print(\"Mean: \", mean_a)"
   ]
  },
  {
   "cell_type": "code",
   "execution_count": 11,
   "metadata": {},
   "outputs": [
    {
     "data": {
      "image/png": "[encoded data removed]",
      "text/plain": [
       "<Figure size 432x288 with 1 Axes>"
      ]
     },
     "metadata": {
      "needs_background": "light"
     },
     "output_type": "display_data"
    }
   ],
   "source": [
    "%matplotlib inline\n",
    "from matplotlib import pyplot as plt \n",
    "ax = plt.hist(a, bins = bins) \n",
    "plt.xticks([0, 5, 10] + list(bins[6:]))\n",
    "plt.title(\"histogram\") \n",
    "plt.show()\n"
   ]
  },
  {
   "cell_type": "code",
   "execution_count": null,
   "metadata": {},
   "outputs": [],
   "source": []
  },
  {
   "cell_type": "code",
   "execution_count": null,
   "metadata": {},
   "outputs": [],
   "source": []
  }
 ],
 "metadata": {
  "kernelspec": {
   "display_name": "Python 3",
   "language": "python",
   "name": "python3"
  },
  "language_info": {
   "codemirror_mode": {
    "name": "ipython",
    "version": 3
   },
   "file_extension": ".py",
   "mimetype": "text/x-python",
   "name": "python",
   "nbconvert_exporter": "python",
   "pygments_lexer": "ipython3",
   "version": "3.7.0"
  }
 },
 "nbformat": 4,
 "nbformat_minor": 2
}
