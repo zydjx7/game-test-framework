{
 "cells": [
  {
   "cell_type": "code",
   "execution_count": null,
   "metadata": {},
   "outputs": [],
   "source": []
  },
  {
   "cell_type": "code",
   "execution_count": null,
   "metadata": {},
   "outputs": [],
   "source": []
  },
  {
   "cell_type": "code",
   "execution_count": null,
   "metadata": {},
   "outputs": [],
   "source": []
  },
  {
   "cell_type": "code",
   "execution_count": 2,
   "metadata": {},
   "outputs": [
    {
     "data": {
      "image/png": "[encoded data removed]",
      "text/plain": [
       "<Figure size 432x288 with 1 Axes>"
      ]
     },
     "metadata": {
      "needs_background": "light"
     },
     "output_type": "display_data"
    },
    {
     "name": "stdout",
     "output_type": "stream",
     "text": [
      "bgr1  [71 84 99]\n",
      "bgr2  [34 43 50]\n"
     ]
    },
    {
     "data": {
      "text/plain": [
       "'\\nfor ch in range(0,3):\\n    gray = hsv[:,:,ch].copy()\\n    plt.title(f\"thresh hsv {ch}\")\\n    plt.imshow(thresh) # cmap=\\'gray\\', vmin=0, vmax=255)\\n    plt.show()\\n    \\n\\n#print(thresh)\\n\\nsharpen_kernel = np.array([[-1,-1,-1], [-1,9,-1], [-1,-1,-1]])\\nsharpen = cv2.filter2D(gray, -1, sharpen_kernel)\\nkernel = cv2.getStructuringElement(cv2.MORPH_RECT, (3,3))\\nclose = cv2.morphologyEx(thresh, cv2.MORPH_CLOSE, kernel, iterations=1)\\nresult = 255 - close\\n\\nprint(gray.shape)\\n\\nplt.title(\"gray hsv\")\\nplt.imshow(gray, cmap=\\'gray\\', vmin=0, vmax=255)\\nplt.show()\\n'"
      ]
     },
     "execution_count": 2,
     "metadata": {},
     "output_type": "execute_result"
    }
   ],
   "source": [
    "import cv2\n",
    "import os\n",
    "import pytesseract\n",
    "from PIL import Image\n",
    "import time\n",
    "import numpy as np\n",
    "\n",
    "from matplotlib import pyplot as plt\n",
    "img = cv2.imread('p1_crop_ammo.png', cv2.COLOR_BGR2RGB)\n",
    "#image_bgr[:,:, 0], image_bgr[:,:,2] = image_bgr[:,:, 2], image_bgr[:,:,0]\n",
    "#image_rgb= cv2.cvtColor(image_bgr, cv2.COLOR_BGR2RGB)\n",
    "#image=image.astype('uint8')\n",
    "#gray = cv2.cvtColor(image, cv2.COLOR_BGR2GRAY)\n",
    "#hsv = cv2.cvtColor(image, cv2.COLOR_BGR2HSV)\n",
    "#plt.imshow(image)\n",
    "#plt.show()\n",
    "#plt.imshow(gray)\n",
    "#plt.show()\n",
    "plt.imshow(img)\n",
    "plt.title(\"orig hsv\")\n",
    "plt.show()\n",
    "#cv2.waitKey()\n",
    "\n",
    " #cv2.cvtColor(hsv, cv2.COLOR_HSV2GRAY)\n",
    "#thresh = cv2.threshold(gray,110,112,cv2.THRESH_BINARY)[1] #cv2.threshold(sharpen, 0, 255, cv2.THRESH_BINARY_INV + cv2.THRESH_OTSU)[1]\n",
    "\n",
    "x1 = 33\n",
    "y1 = 25  \n",
    "x2 = 45\n",
    "y2 = 25\n",
    "\n",
    "print(\"bgr1 \", img[x1,y1,:])\n",
    "print(\"bgr2 \", img[x2,y2,:])\n",
    "\n",
    "\"\"\"\n",
    "for ch in range(0,3):\n",
    "    gray = hsv[:,:,ch].copy()\n",
    "    plt.title(f\"thresh hsv {ch}\")\n",
    "    plt.imshow(thresh) # cmap='gray', vmin=0, vmax=255)\n",
    "    plt.show()\n",
    "    \n",
    "\n",
    "#print(thresh)\n",
    "\n",
    "sharpen_kernel = np.array([[-1,-1,-1], [-1,9,-1], [-1,-1,-1]])\n",
    "sharpen = cv2.filter2D(gray, -1, sharpen_kernel)\n",
    "kernel = cv2.getStructuringElement(cv2.MORPH_RECT, (3,3))\n",
    "close = cv2.morphologyEx(thresh, cv2.MORPH_CLOSE, kernel, iterations=1)\n",
    "result = 255 - close\n",
    "\n",
    "print(gray.shape)\n",
    "\n",
    "plt.title(\"gray hsv\")\n",
    "plt.imshow(gray, cmap='gray', vmin=0, vmax=255)\n",
    "plt.show()\n",
    "\"\"\""
   ]
  },
  {
   "cell_type": "code",
   "execution_count": null,
   "metadata": {},
   "outputs": [],
   "source": []
  }
 ],
 "metadata": {
  "kernelspec": {
   "display_name": "Python 3",
   "language": "python",
   "name": "python3"
  },
  "language_info": {
   "codemirror_mode": {
    "name": "ipython",
    "version": 3
   },
   "file_extension": ".py",
   "mimetype": "text/x-python",
   "name": "python",
   "nbconvert_exporter": "python",
   "pygments_lexer": "ipython3",
   "version": "3.7.3"
  }
 },
 "nbformat": 4,
 "nbformat_minor": 2
}
